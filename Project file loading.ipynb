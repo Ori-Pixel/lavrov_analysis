{
 "cells": [
  {
   "cell_type": "code",
   "execution_count": 44,
   "metadata": {},
   "outputs": [
    {
     "name": "stdout",
     "output_type": "stream",
     "text": [
      "Toggle navigation      / / Asset Publisher 18 November 2019 2364-18-11-2019 Mr Makei, Mr Rapota, Colleagues, friends, Welcome to a joint meeting of the collegiums of the foreign ministries of Russia and the Republic of Belarus. This meeting is taking place in the year that marks the 20  anniversary of the Treaty on the Creation of a Union State of Russia and Belarus. Twenty years ago, guided by the fundamental interests of the two peoples, our leaders decided to take Russian-Belarusian relations to a new level. Experience has shown that it was the right decision. Today, Russia and Belarus are close allies and strategic partners. Along with the EAEU, the Union State is at the forefront of integration processes unfolding within our common space. The key goals of the Union State include conducting coordinated foreign policy. Two-year programmes of concerted foreign policy actions of the states parties to the Treaty on the Creation of a Union State have been adopted by the Supreme State Council since 2000. They have proven themselves an effective tool for coordinating actions in the international arena and developing common approaches to global and regional issues. Reviewing the draft Programme for 2020-2021 is one of the main items on our agenda today. Our countries support each other's initiatives at the UN, the OSCE and other international organisations. They co-sponsor draft resolutions and decisions, jointly uphold our common interests, oppose attempts to promote, at multilateral platforms, approaches that infringe on the legitimate rights and interests of Russia and Belarus and violate the fundamental principles of international law, primarily, the UN Charter, and European security commitments. In this context, we have agreed to consider the developments in the Euro-Atlantic space today. We are concerned about NATO's continuing policy of moving its military infrastructure closer to our borders and the intensified NATO military activity near our states. We proceed from the precept that these processes must be considered in the context of the OSCE countries' commitment not to strengthen their security at the expense of the security of other states. One more issue on the current agenda has to do with strategic stability, non-proliferation and arms control. The processes underway in these areas have a direct impact on the national interests of Russia and Belarus. We are worried about the deepening crisis in arms control. I am referring to the US decision to erode the Intermediate-Range Nuclear Forces Treaty (INF Treaty) after withdrawing from the ABM Treaty. As you know, Russia's proposals designed to ensure the viability of this treaty have been rejected. And now the future of the New START Treaty has been put in question as well. In addition, the United States has refused to ratify the Comprehensive Nuclear-Test-Ban Treaty (CTBT), added to its doctrines the possibility of lowering the nuclear threshold and plans to deploy offensive weapons in outer space. It should be said that our Western colleagues' activities are undermining the fundamental principles of the Chemical Weapons Convention (CWC), which is deepening the crisis in the non-proliferation of weapons of mass destruction. In this context, we should strengthen our interaction across the entire range of these problems in the interests of preventing negative trends in the field of strategic stability. We have agreed to discuss all these subjects today as well. Another item on this meeting's agenda concerns the use by a number of our Western colleagues, primarily the US and the EU, of illegitimate tools such as unilateral sanctions in violation of the UN Charter. This practice seriously undermines global trust and understanding. I would like to emphasise that, even as Russia and Belarus discuss at international platforms these sensitive problems and negative phenomena, which cause serious tension in multilateral formats and in bilateral relations with third countries, they always focus on possible constructive solutions rather than on negative scenarios, on solutions that would help us reverse these processes, which have a very negative effect on the state of affairs in our common region and in international affairs in general. I shall note that our colleagues who drafted the decision for today's meeting were relying on this position and have formulated approaches that will help us promote a unifying rather than a disconnecting agenda. This is our common interest in relation to the processes taking place in the European region. I am confident that today's meeting will take place in a friendly atmosphere, and we will discuss our objectives substantively in the field of concerted foreign policy efforts and reach agreements that will strengthen our cooperation and alliance in international affairs.                  Advanced settings         Switcher      6 Photos close\n"
     ]
    }
   ],
   "source": [
    "import json\n",
    "with open(\"lavrov list of dicts.json\") as f:\n",
    "    jsonString = f.read()\n",
    "    jsonData = json.loads(jsonString)\n",
    "    print(jsonData[0]['ArticleText'])"
   ]
  },
  {
   "cell_type": "code",
   "execution_count": 49,
   "metadata": {},
   "outputs": [
    {
     "data": {
      "text/html": [
       "<div>\n",
       "<style scoped>\n",
       "    .dataframe tbody tr th:only-of-type {\n",
       "        vertical-align: middle;\n",
       "    }\n",
       "\n",
       "    .dataframe tbody tr th {\n",
       "        vertical-align: top;\n",
       "    }\n",
       "\n",
       "    .dataframe thead th {\n",
       "        text-align: right;\n",
       "    }\n",
       "</style>\n",
       "<table border=\"1\" class=\"dataframe\">\n",
       "  <thead>\n",
       "    <tr style=\"text-align: right;\">\n",
       "      <th></th>\n",
       "      <th>Title</th>\n",
       "      <th>articleID</th>\n",
       "      <th>article_URL</th>\n",
       "      <th>ArticleText</th>\n",
       "      <th>Article_length_words</th>\n",
       "      <th>Title_length_words</th>\n",
       "    </tr>\n",
       "  </thead>\n",
       "  <tbody>\n",
       "    <tr>\n",
       "      <th>0</th>\n",
       "      <td>Foreign Minister Sergey Lavrov's remarks at a ...</td>\n",
       "      <td>3904674</td>\n",
       "      <td>https://www.mid.ru/en/press_service/minister_s...</td>\n",
       "      <td>Toggle navigation      / / Asset Publisher 18 ...</td>\n",
       "      <td>838</td>\n",
       "      <td>35</td>\n",
       "    </tr>\n",
       "    <tr>\n",
       "      <th>1</th>\n",
       "      <td>Foreign Minister Sergey Lavrov's opening remar...</td>\n",
       "      <td>3906668</td>\n",
       "      <td>https://www.mid.ru/en/press_service/minister_s...</td>\n",
       "      <td>Toggle navigation      / / Asset Publisher 20 ...</td>\n",
       "      <td>208</td>\n",
       "      <td>27</td>\n",
       "    </tr>\n",
       "    <tr>\n",
       "      <th>2</th>\n",
       "      <td>Remarks and answers to media questions by Fore...</td>\n",
       "      <td>3904895</td>\n",
       "      <td>https://www.mid.ru/en/press_service/minister_s...</td>\n",
       "      <td>Toggle navigation      / / Asset Publisher 18 ...</td>\n",
       "      <td>2170</td>\n",
       "      <td>42</td>\n",
       "    </tr>\n",
       "    <tr>\n",
       "      <th>3</th>\n",
       "      <td>Excerpts from Foreign Minister Sergey Lavrov's...</td>\n",
       "      <td>3925748</td>\n",
       "      <td>https://www.mid.ru/en/press_service/minister_s...</td>\n",
       "      <td>Toggle navigation      / / Asset Publisher 30 ...</td>\n",
       "      <td>256</td>\n",
       "      <td>36</td>\n",
       "    </tr>\n",
       "    <tr>\n",
       "      <th>4</th>\n",
       "      <td>Foreign Minister Sergey Lavrov's remarks and a...</td>\n",
       "      <td>3911585</td>\n",
       "      <td>https://www.mid.ru/en/press_service/minister_s...</td>\n",
       "      <td>Toggle navigation      / / Asset Publisher 23 ...</td>\n",
       "      <td>1465</td>\n",
       "      <td>27</td>\n",
       "    </tr>\n",
       "    <tr>\n",
       "      <th>5</th>\n",
       "      <td>Foreign Minister Sergey Lavrov's answers to me...</td>\n",
       "      <td>3866037</td>\n",
       "      <td>https://www.mid.ru/en/press_service/minister_s...</td>\n",
       "      <td>Toggle navigation      / / Asset Publisher 25 ...</td>\n",
       "      <td>34</td>\n",
       "      <td>21</td>\n",
       "    </tr>\n",
       "    <tr>\n",
       "      <th>6</th>\n",
       "      <td>Foreign Minister Sergey Lavrov's remarks and a...</td>\n",
       "      <td>3870486</td>\n",
       "      <td>https://www.mid.ru/en/press_service/minister_s...</td>\n",
       "      <td>Toggle navigation      / / Asset Publisher 30 ...</td>\n",
       "      <td>1229</td>\n",
       "      <td>41</td>\n",
       "    </tr>\n",
       "    <tr>\n",
       "      <th>7</th>\n",
       "      <td>Foreign Minister Sergey Lavrov's remarks and a...</td>\n",
       "      <td>3826083</td>\n",
       "      <td>https://www.mid.ru/en/press_service/minister_s...</td>\n",
       "      <td>Toggle navigation      / / Asset Publisher 2 O...</td>\n",
       "      <td>12242</td>\n",
       "      <td>33</td>\n",
       "    </tr>\n",
       "    <tr>\n",
       "      <th>8</th>\n",
       "      <td>Foreign Minister Sergey Lavrov's interview wit...</td>\n",
       "      <td>3852496</td>\n",
       "      <td>https://www.mid.ru/en/press_service/minister_s...</td>\n",
       "      <td>Toggle navigation      / / Asset Publisher 14 ...</td>\n",
       "      <td>1287</td>\n",
       "      <td>23</td>\n",
       "    </tr>\n",
       "    <tr>\n",
       "      <th>9</th>\n",
       "      <td>Press release on Foreign Minister Sergey Lavro...</td>\n",
       "      <td>3810872</td>\n",
       "      <td>https://www.mid.ru/en/press_service/minister_s...</td>\n",
       "      <td>Toggle navigation      / / Asset Publisher 26 ...</td>\n",
       "      <td>214</td>\n",
       "      <td>16</td>\n",
       "    </tr>\n",
       "  </tbody>\n",
       "</table>\n",
       "</div>"
      ],
      "text/plain": [
       "                                               Title articleID  \\\n",
       "0  Foreign Minister Sergey Lavrov's remarks at a ...   3904674   \n",
       "1  Foreign Minister Sergey Lavrov's opening remar...   3906668   \n",
       "2  Remarks and answers to media questions by Fore...   3904895   \n",
       "3  Excerpts from Foreign Minister Sergey Lavrov's...   3925748   \n",
       "4  Foreign Minister Sergey Lavrov's remarks and a...   3911585   \n",
       "5  Foreign Minister Sergey Lavrov's answers to me...   3866037   \n",
       "6  Foreign Minister Sergey Lavrov's remarks and a...   3870486   \n",
       "7  Foreign Minister Sergey Lavrov's remarks and a...   3826083   \n",
       "8  Foreign Minister Sergey Lavrov's interview wit...   3852496   \n",
       "9  Press release on Foreign Minister Sergey Lavro...   3810872   \n",
       "\n",
       "                                         article_URL  \\\n",
       "0  https://www.mid.ru/en/press_service/minister_s...   \n",
       "1  https://www.mid.ru/en/press_service/minister_s...   \n",
       "2  https://www.mid.ru/en/press_service/minister_s...   \n",
       "3  https://www.mid.ru/en/press_service/minister_s...   \n",
       "4  https://www.mid.ru/en/press_service/minister_s...   \n",
       "5  https://www.mid.ru/en/press_service/minister_s...   \n",
       "6  https://www.mid.ru/en/press_service/minister_s...   \n",
       "7  https://www.mid.ru/en/press_service/minister_s...   \n",
       "8  https://www.mid.ru/en/press_service/minister_s...   \n",
       "9  https://www.mid.ru/en/press_service/minister_s...   \n",
       "\n",
       "                                         ArticleText  Article_length_words  \\\n",
       "0  Toggle navigation      / / Asset Publisher 18 ...                   838   \n",
       "1  Toggle navigation      / / Asset Publisher 20 ...                   208   \n",
       "2  Toggle navigation      / / Asset Publisher 18 ...                  2170   \n",
       "3  Toggle navigation      / / Asset Publisher 30 ...                   256   \n",
       "4  Toggle navigation      / / Asset Publisher 23 ...                  1465   \n",
       "5  Toggle navigation      / / Asset Publisher 25 ...                    34   \n",
       "6  Toggle navigation      / / Asset Publisher 30 ...                  1229   \n",
       "7  Toggle navigation      / / Asset Publisher 2 O...                 12242   \n",
       "8  Toggle navigation      / / Asset Publisher 14 ...                  1287   \n",
       "9  Toggle navigation      / / Asset Publisher 26 ...                   214   \n",
       "\n",
       "   Title_length_words  \n",
       "0                  35  \n",
       "1                  27  \n",
       "2                  42  \n",
       "3                  36  \n",
       "4                  27  \n",
       "5                  21  \n",
       "6                  41  \n",
       "7                  33  \n",
       "8                  23  \n",
       "9                  16  "
      ]
     },
     "execution_count": 49,
     "metadata": {},
     "output_type": "execute_result"
    }
   ],
   "source": [
    "import pandas as pd\n",
    "import nltk\n",
    "from nltk.tokenize import sent_tokenize, word_tokenize\n",
    "\n",
    "lavrov_df = pd.DataFrame(jsonData)\n",
    "article_words = []\n",
    "article_length_words_list = []\n",
    "title_words = []\n",
    "title_length_words_list = []\n",
    "\n",
    "lavrov_df = pd.DataFrame(lavrov_df)\n",
    "\n",
    "\n",
    "for index, row in lavrov_df.iterrows():\n",
    "    article_words = []\n",
    "    sentences = sent_tokenize(lavrov_df.ArticleText[index])\n",
    "    title_words = []\n",
    "    title_sentences = sent_tokenize(lavrov_df.Title[index])\n",
    "    for sent in sentences:\n",
    "        words_list = word_tokenize(sent)\n",
    "        article_words.extend(words_list)\n",
    "    article_length_words = (len(article_words))\n",
    "    article_length_words_list.append(article_length_words)\n",
    "    for sent in title_sentences:\n",
    "        words_list = word_tokenize(sent)\n",
    "        title_words.extend(words_list)\n",
    "    title_length_words = (len(title_words))\n",
    "    title_length_words_list.append(title_length_words)\n",
    "    \n",
    "lavrov_df['Article_length_words'] = (article_length_words_list)\n",
    "lavrov_df['Title_length_words'] = (title_length_words_list)\n",
    "\n",
    "\n",
    "lavrov_df.head(10)"
   ]
  },
  {
   "cell_type": "code",
   "execution_count": 62,
   "metadata": {},
   "outputs": [
    {
     "name": "stdout",
     "output_type": "stream",
     "text": [
      "Foreign Minister Sergey Lavrov's remarks at a joint meeting of the collegiums of the Foreign Ministry of Russia and the Foreign Ministry of the Republic of Belarus, Moscow, November 18, 2019\n"
     ]
    }
   ],
   "source": []
  },
  {
   "cell_type": "code",
   "execution_count": 72,
   "metadata": {},
   "outputs": [],
   "source": [
    "import gensim\n",
    "from gensim.utils import simple_preprocess\n",
    "from gensim.parsing.preprocessing import STOPWORDS\n",
    "from nltk.stem.porter import * #nltk to do the stemming\n",
    "\n",
    "stemmer = PorterStemmer()\n",
    "def preprocess(text):\n",
    "    result = []\n",
    "    #for each word in text, if the word is stopword, remove it, otherwise lower\n",
    "    #for just lowercasing or tokenization\n",
    "    for token in gensim.utils.simple_preprocess(text):\n",
    "        #list of stopwords will give full list, also one in nltk\n",
    "        if token not in gensim.parsing.preprocessing.STOPWORDS:\n",
    "            result.append(stemmer.stem(token))\n",
    "    return result\n",
    "\n",
    "\n",
    "#lda_model = gensim.models.LdaMulticore(bow_corpus, num_topics = 8, id2word = dictionary,\n",
    "#                                      passes=10\n",
    "#                                      )\n"
   ]
  },
  {
   "cell_type": "code",
   "execution_count": 74,
   "metadata": {},
   "outputs": [],
   "source": [
    "processed_articles = []\n",
    "for article in range(len(jsonData)):\n",
    "    processed_articles.append(preprocess(jsonData[article]['ArticleText']))"
   ]
  },
  {
   "cell_type": "code",
   "execution_count": 84,
   "metadata": {},
   "outputs": [],
   "source": [
    "dictionary = gensim.corpora.Dictionary(processed_articles)\n",
    "dictionary.filter_extremes(no_below=15, no_above=0.1, keep_n=100000)\n",
    "bow_corpus = [dictionary.doc2bow(article) for article in processed_articles]"
   ]
  },
  {
   "cell_type": "code",
   "execution_count": 65,
   "metadata": {},
   "outputs": [
    {
     "name": "stdout",
     "output_type": "stream",
     "text": [
      "the Average length in words for all articles is 1332.0029019152641\n",
      "The median length in words for all articles is 831.0\n",
      "The maximum length in words over the whole dataset is 21847\n",
      "The minimum length in words over the whole dataset is 13\n"
     ]
    }
   ],
   "source": [
    "print(\"the Average length in words for all articles is\", lavrov_df.Article_length_words.mean())\n",
    "print(\"The median length in words for all articles is\", lavrov_df.Article_length_words.median())\n",
    "print(\"The maximum length in words over the whole dataset is\", lavrov_df.Article_length_words.max())\n",
    "print(\"The minimum length in words over the whole dataset is\", lavrov_df.Article_length_words.min())"
   ]
  },
  {
   "cell_type": "code",
   "execution_count": 51,
   "metadata": {},
   "outputs": [
    {
     "data": {
      "text/plain": [
       "<matplotlib.axes._subplots.AxesSubplot at 0x2aef97e3ba8>"
      ]
     },
     "execution_count": 51,
     "metadata": {},
     "output_type": "execute_result"
    },
    {
     "data": {
      "image/png": "[encoded data removed]",
      "text/plain": [
       "<Figure size 432x288 with 1 Axes>"
      ]
     },
     "metadata": {
      "needs_background": "light"
     },
     "output_type": "display_data"
    }
   ],
   "source": [
    "import numpy as np\n",
    "\n",
    "%matplotlib inline\n",
    "lavrov_df.Article_length_words.hist()"
   ]
  },
  {
   "cell_type": "code",
   "execution_count": 123,
   "metadata": {},
   "outputs": [
    {
     "name": "stdout",
     "output_type": "stream",
     "text": [
      "301.0\n"
     ]
    },
    {
     "data": {
      "image/png": "[encoded data removed]",
      "text/plain": [
       "<Figure size 432x288 with 1 Axes>"
      ]
     },
     "metadata": {
      "needs_background": "light"
     },
     "output_type": "display_data"
    }
   ],
   "source": [
    "lavrov_df.Article_length_words.plot.density()\n",
    "print(lavrov_df.Article_length_words.quantile(0.25))"
   ]
  },
  {
   "cell_type": "code",
   "execution_count": 124,
   "metadata": {},
   "outputs": [
    {
     "data": {
      "image/png": "[encoded data removed]",
      "text/plain": [
       "<Figure size 432x288 with 1 Axes>"
      ]
     },
     "metadata": {
      "needs_background": "light"
     },
     "output_type": "display_data"
    }
   ],
   "source": [
    "lavrov_df.boxplot(column = \"Article_length_words\");"
   ]
  },
  {
   "cell_type": "code",
   "execution_count": 3,
   "metadata": {},
   "outputs": [],
   "source": [
    "import pandas as pd\n",
    "import nltk\n",
    "from nltk.tokenize import sent_tokenize, word_tokenize\n",
    "\n",
    "lavrov_df = pd.DataFrame(jsonData)\n",
    "article_words = []\n",
    "article_length_words_list = []\n",
    "\n",
    "lavrov_df = pd.DataFrame(lavrov_df)\n",
    "\n",
    "for index, row in lavrov_df.iterrows():\n",
    "    article_words = []\n",
    "    sentences = sent_tokenize(lavrov_df.Title[index])\n",
    "    for sent in sentences:\n",
    "        words_list = word_tokenize(sent)\n",
    "        article_words.extend(words_list)\n",
    "    article_length_words = (len(article_words))\n",
    "    article_length_words_list.append(article_length_words)\n",
    "lavrov_df['Title_length_words'] = (article_length_words_list)\n"
   ]
  },
  {
   "cell_type": "code",
   "execution_count": 5,
   "metadata": {},
   "outputs": [
    {
     "name": "stdout",
     "output_type": "stream",
     "text": [
      "the Average length in words for all articles is 30.719674985490425\n",
      "The median length in words for all articles is 30.0\n",
      "The maximum length in words over the whole dataset is 93\n",
      "The minimum length in words over the whole dataset is 7\n"
     ]
    }
   ],
   "source": [
    "print(\"the Average length in words for all articles is\", lavrov_df.Title_length_words.mean())\n",
    "print(\"The median length in words for all articles is\", lavrov_df.Title_length_words.median())\n",
    "print(\"The maximum length in words over the whole dataset is\", lavrov_df.Title_length_words.max())\n",
    "print(\"The minimum length in words over the whole dataset is\", lavrov_df.Title_length_words.min())"
   ]
  },
  {
   "cell_type": "code",
   "execution_count": 6,
   "metadata": {},
   "outputs": [
    {
     "data": {
      "text/plain": [
       "<matplotlib.axes._subplots.AxesSubplot at 0x2a1363e4e88>"
      ]
     },
     "execution_count": 6,
     "metadata": {},
     "output_type": "execute_result"
    },
    {
     "data": {
      "image/png": "[encoded data removed]",
      "text/plain": [
       "<Figure size 432x288 with 1 Axes>"
      ]
     },
     "metadata": {
      "needs_background": "light"
     },
     "output_type": "display_data"
    }
   ],
   "source": [
    "import numpy as np\n",
    "\n",
    "%matplotlib inline\n",
    "lavrov_df.Title_length_words.hist()"
   ]
  },
  {
   "cell_type": "code",
   "execution_count": 7,
   "metadata": {},
   "outputs": [
    {
     "name": "stdout",
     "output_type": "stream",
     "text": [
      "24.0\n"
     ]
    },
    {
     "data": {
      "image/png": "[encoded data removed]",
      "text/plain": [
       "<Figure size 432x288 with 1 Axes>"
      ]
     },
     "metadata": {
      "needs_background": "light"
     },
     "output_type": "display_data"
    }
   ],
   "source": [
    "lavrov_df.Title_length_words.plot.density()\n",
    "print(lavrov_df.Title_length_words.quantile(0.25))"
   ]
  },
  {
   "cell_type": "code",
   "execution_count": null,
   "metadata": {},
   "outputs": [],
   "source": []
  }
 ],
 "metadata": {
  "kernelspec": {
   "display_name": "Python 3",
   "language": "python",
   "name": "python3"
  },
  "language_info": {
   "codemirror_mode": {
    "name": "ipython",
    "version": 3
   },
   "file_extension": ".py",
   "mimetype": "text/x-python",
   "name": "python",
   "nbconvert_exporter": "python",
   "pygments_lexer": "ipython3",
   "version": "3.7.4"
  }
 },
 "nbformat": 4,
 "nbformat_minor": 2
}
